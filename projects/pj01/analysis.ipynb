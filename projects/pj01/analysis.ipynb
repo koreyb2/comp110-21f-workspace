{
 "cells": [
  {
   "cell_type": "markdown",
   "metadata": {},
   "source": [
    "# Analysis Question\n",
    "## Is the in-person section more likely to have prior experience?"
   ]
  },
  {
   "cell_type": "code",
   "execution_count": 50,
   "metadata": {},
   "outputs": [],
   "source": [
    "%reload_ext autoreload\n",
    "%autoreload 2"
   ]
  },
  {
   "cell_type": "markdown",
   "metadata": {},
   "source": [
    "### Turn Data into Table\n",
    "\n",
    "Convert CSV to a column-oriented table."
   ]
  },
  {
   "cell_type": "code",
   "execution_count": 51,
   "metadata": {},
   "outputs": [],
   "source": [
    "from data_utils import read_csv_rows, columnar\n",
    "\n",
    "rows: list[dict[str, str]] = read_csv_rows('../../data/survey.csv')\n",
    "columns: dict[str, list[str]] = columnar(rows)"
   ]
  },
  {
   "cell_type": "markdown",
   "metadata": {},
   "source": [
    "### Select the Two Columns"
   ]
  },
  {
   "cell_type": "code",
   "execution_count": 52,
   "metadata": {},
   "outputs": [],
   "source": [
    "from data_utils import select\n",
    "Section: dict[str, list[str]] = select(columns, [\"section\"])\n",
    "Experience: dict[str, list[str]] = select(columns, [\"prior_exp\"])"
   ]
  },
  {
   "cell_type": "markdown",
   "metadata": {},
   "source": [
    "### Combine the selected columns into a single dictionary\n",
    "\n",
    "Here are the first three values of each string's list."
   ]
  },
  {
   "cell_type": "code",
   "execution_count": 53,
   "metadata": {},
   "outputs": [
    {
     "data": {
      "text/plain": [
       "{'In-Person': ['None to less than one month!',\n",
       "  'None to less than one month!',\n",
       "  'None to less than one month!'],\n",
       " 'Remote': ['None to less than one month!',\n",
       "  'None to less than one month!',\n",
       "  'None to less than one month!']}"
      ]
     },
     "execution_count": 53,
     "metadata": {},
     "output_type": "execute_result"
    }
   ],
   "source": [
    "from data_utils import head\n",
    "\n",
    "\n",
    "def both(w: dict[str, list[str]], x: dict[str, list[str]], y: str, z: str) -> dict[str, list[str]]:\n",
    "    result: dict[str, list[str]] = {}\n",
    "    i: int = 0\n",
    "    result[\"In-Person\"] = []\n",
    "    result[\"Remote\"] = []\n",
    "    while i < len(w[y]):\n",
    "        if w[y][i] == \"In-Person\":\n",
    "            result[\"In-Person\"].append(x[z][i])\n",
    "        else:\n",
    "            result[\"Remote\"].append(x[z][i])\n",
    "        i += 1\n",
    "    return result\n",
    "\n",
    "\n",
    "Combined = both(Section, Experience, \"section\", \"prior_exp\")\n",
    "head(Combined, 3)"
   ]
  },
  {
   "cell_type": "markdown",
   "metadata": {},
   "source": [
    "### Count the Combinations of Sections and Experience"
   ]
  },
  {
   "cell_type": "code",
   "execution_count": 54,
   "metadata": {},
   "outputs": [
    {
     "name": "stdout",
     "output_type": "stream",
     "text": [
      "{'In-Person': {'None to less than one month!': 244, '2-6 months': 65, '7-12 months': 24, '1-2 years': 11, 'Over 2 years': 6}, 'Remote': {'None to less than one month!': 159, 'Over 2 years': 5, '1-2 years': 7, '2-6 months': 39, '7-12 months': 13}}\n"
     ]
    }
   ],
   "source": [
    "from data_utils import count\n",
    "Combos: dict[str, int] = {}\n",
    "for key in Combined:\n",
    "    Combos[key] = count(Combined[key])\n",
    "print(Combos)"
   ]
  },
  {
   "cell_type": "markdown",
   "metadata": {},
   "source": [
    "### Count the total number of students \n",
    "\n",
    "Use this value to get the percentage of students with experience (greater than one month)"
   ]
  },
  {
   "cell_type": "code",
   "execution_count": 55,
   "metadata": {},
   "outputs": [
    {
     "name": "stdout",
     "output_type": "stream",
     "text": [
      "In-Person experience is 30.28571428571429%\n",
      "Remote experience is 28.699551569506728%\n"
     ]
    }
   ],
   "source": [
    "In_Person: int = 244 + 65 + 24 + 11 + 6\n",
    "Remote: int = 159 + 5 + 7 + 39 + 13\n",
    "In_person_exp: float = (In_Person - 244) / In_Person\n",
    "Remote_exp: float = (Remote - 159) / Remote\n",
    "print(f\"In-Person experience is {In_person_exp * 100}%\")\n",
    "print(f\"Remote experience is {Remote_exp * 100}%\")"
   ]
  },
  {
   "cell_type": "markdown",
   "metadata": {},
   "source": [
    "## Conclusion\n",
    "\n",
    "While yes the in-person section has a higher percentage of students with experience, the difference is so small that there is not a clear indication that a student from either section has a greater chance of having experience than the other. The experience of a student does not seem to affect the decision of which section to be a part of, synchronous or asynchronous. I initially believed that the asynchronous section would have a greater percentage of students with experience because the students would be more comfortable learning online given their prior knowledge. This appears to have been proven wrong and not related to the choice of a section. "
   ]
  }
 ],
 "metadata": {
  "interpreter": {
   "hash": "1fba6aa5a72d2000a6f5d47cc339135e9eef0260fc7e228f339d733828b13ffa"
  },
  "kernelspec": {
   "display_name": "Python 3.9.6 64-bit",
   "name": "python3"
  },
  "language_info": {
   "codemirror_mode": {
    "name": "ipython",
    "version": 3
   },
   "file_extension": ".py",
   "mimetype": "text/x-python",
   "name": "python",
   "nbconvert_exporter": "python",
   "pygments_lexer": "ipython3",
   "version": "3.9.6"
  },
  "orig_nbformat": 4
 },
 "nbformat": 4,
 "nbformat_minor": 2
}
